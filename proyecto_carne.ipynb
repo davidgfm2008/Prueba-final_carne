{
 "cells": [
  {
   "cell_type": "code",
   "execution_count": 1,
   "id": "2a217355",
   "metadata": {},
   "outputs": [],
   "source": [
    "#IMPORTAR LIBRERIAS\n",
    "import numpy as np\n",
    "import os\n",
    "import re\n",
    "import matplotlib.pyplot as plt\n",
    "%matplotlib inline\n",
    "from sklearn import metrics\n",
    "from sklearn.model_selection import train_test_split\n",
    "from sklearn.metrics import classification_report\n",
    "from sklearn.metrics import ConfusionMatrixDisplay\n",
    "import tensorflow\n",
    "from tensorflow.keras.utils import to_categorical\n",
    "from tensorflow.keras import Sequential,Input,Model\n",
    "from tensorflow.keras.layers import Dense, Dropout, Flatten\n",
    "from tensorflow.keras.layers import Convolution2D, MaxPooling2D,BatchNormalization,LeakyReLU"
   ]
  },
  {
   "cell_type": "code",
   "execution_count": null,
   "id": "dcfe828e",
   "metadata": {},
   "outputs": [],
   "source": [
    "#Ruta\n",
    "pwd"
   ]
  },
  {
   "cell_type": "code",
   "execution_count": null,
   "id": "2b273b84",
   "metadata": {},
   "outputs": [],
   "source": [
    "# Accede al directorio train y se usa Dataset para los subectorios"
   ]
  },
  {
   "cell_type": "code",
   "execution_count": 3,
   "id": "ca74bff6",
   "metadata": {},
   "outputs": [
    {
     "name": "stdout",
     "output_type": "stream",
     "text": [
      "leyendo imagenes de desde:  C:\\Users\\DavidFlores\\Desktop\\UIDE\\train\n",
      "C:\\Users\\DavidFlores\\Desktop\\UIDE\\train\\CLASS_02 124\n",
      "C:\\Users\\DavidFlores\\Desktop\\UIDE\\train\\CLASS_03 426\n",
      "C:\\Users\\DavidFlores\\Desktop\\UIDE\\train\\CLASS_04 210\n",
      "C:\\Users\\DavidFlores\\Desktop\\UIDE\\train\\CLASS_05 1898\n",
      "C:\\Users\\DavidFlores\\Desktop\\UIDE\\train\\CLASS_06 74\n",
      "C:\\Users\\DavidFlores\\Desktop\\UIDE\\train\\CLASS_07 408\n",
      "C:\\Users\\DavidFlores\\Desktop\\UIDE\\train\\CLASS_08 126\n",
      "Directorios leidos: 7\n",
      "Imagenes en cada directorio [124, 426, 210, 1898, 74, 408, 126]\n",
      "suma Total de imagenes en subdirs: 3266\n"
     ]
    }
   ],
   "source": [
    "imgpath = os.path.join(os.getcwd(),)\n",
    "\n",
    "images = []\n",
    "directories = []\n",
    "dircount = []\n",
    "cant=0\n",
    "\n",
    "print(\"leyendo imagenes de desde: \",imgpath)\n",
    "\n",
    "for root, dirnames, filenames in os.walk(imgpath, topdown=True):\n",
    "    \n",
    "    for filename in filenames:\n",
    "        if re.search(\"\\.(jpg|jpeg|png|bmp|tiff)$\", filename):\n",
    "            cant=cant+1\n",
    "            filepath = os.path.join(root, filename)\n",
    "            img_rgb = plt.imread(filepath)\n",
    "            images.append(img_rgb)\n",
    "            b = \"Leyendo...\" + str(cant)\n",
    "            print (b, end=\"\\r\")\n",
    "            \n",
    "        if re.search(\"\\.(jpg|jpeg|png|bmp|tiff)$\", filename):\n",
    "            cant=cant+1\n",
    "            filepath = os.path.join(root, filename)\n",
    "            image = plt.imread(filepath)\n",
    "            images.append(image)\n",
    "            b = \"Leyendo...\" + str(cant)\n",
    "            print (b, end=\"\\r\")\n",
    "            \n",
    "          \n",
    "    if cant>0:\n",
    "         print(root, cant)\n",
    "         directories.append(root)\n",
    "         dircount.append(cant)\n",
    "         cant=0\n",
    "\n",
    "print('Directorios leidos:',len(directories))\n",
    "print(\"Imagenes en cada directorio\", dircount)\n",
    "print('suma Total de imagenes en subdirs:',sum(dircount))\n",
    "    \n"
   ]
  },
  {
   "cell_type": "code",
   "execution_count": null,
   "id": "eb32e47a",
   "metadata": {},
   "outputs": [],
   "source": [
    "# Numero de etiquetas creadas 7 carpetas"
   ]
  },
  {
   "cell_type": "code",
   "execution_count": 55,
   "id": "389af8da",
   "metadata": {},
   "outputs": [
    {
     "name": "stdout",
     "output_type": "stream",
     "text": [
      "Cantidad etiquetas creadas:  3266\n",
      "0 CLASS_02\n",
      "1 CLASS_03\n",
      "2 CLASS_04\n",
      "3 CLASS_05\n",
      "4 CLASS_06\n",
      "5 CLASS_07\n",
      "6 CLASS_08\n",
      "Total number of outputs :  7\n",
      "Output classes :  [0 1 2 3 4 5 6]\n"
     ]
    }
   ],
   "source": [
    "labels=[]\n",
    "indice=0\n",
    "for cantidad in dircount:\n",
    "    for i in range(cantidad):\n",
    "        labels.append(indice)\n",
    "    indice=indice+1\n",
    "print(\"Cantidad etiquetas creadas: \",len(labels))\n",
    " \n",
    "carne=[]\n",
    "indice=0\n",
    "for directorio in directories:\n",
    "    name = directorio.split(os.sep)\n",
    "    print(indice , name[len(name)-1])\n",
    "    carne.append(name[len(name)-1])\n",
    "    indice=indice+1\n",
    " \n",
    "y = np.array(labels)\n",
    "X = np.array(images, dtype=np.uint8) #convierto de lista a numpy\n",
    " \n",
    "# Find the unique numbers from the train labels\n",
    "classes = np.unique(y)\n",
    "nClasses = len(classes)\n",
    "print('Total number of outputs : ', nClasses)\n",
    "print('Output classes : ', classes)"
   ]
  },
  {
   "cell_type": "code",
   "execution_count": null,
   "id": "b1e71813",
   "metadata": {},
   "outputs": [],
   "source": [
    "# Dividimo en dos conjuntos uno de prueba otro de aprendizaje con el 10% de los datos a prueba"
   ]
  },
  {
   "cell_type": "code",
   "execution_count": 5,
   "id": "76d96450",
   "metadata": {},
   "outputs": [
    {
     "name": "stdout",
     "output_type": "stream",
     "text": [
      "Training data shape :  (2939, 216, 384, 3) (2939,)\n",
      "Testing data shape :  (327, 216, 384, 3) (327,)\n"
     ]
    }
   ],
   "source": [
    "train_X,test_X,train_Y,test_Y = train_test_split(X,y,test_size=0.1)\n",
    "print('Training data shape : ', train_X.shape, train_Y.shape)\n",
    "print('Testing data shape : ', test_X.shape, test_Y.shape)\n",
    "\n",
    "#Normaliza los valores de los píxeles dividiéndolos por 255\n",
    "train_X = train_X.astype('float32')\n",
    "test_X = test_X.astype('float32')\n"
   ]
  },
  {
   "cell_type": "code",
   "execution_count": 6,
   "id": "245a3b07",
   "metadata": {},
   "outputs": [
    {
     "name": "stdout",
     "output_type": "stream",
     "text": [
      "Original label: 3\n",
      "After conversion to one-hot: [0. 0. 0. 1. 0. 0. 0.]\n"
     ]
    }
   ],
   "source": [
    "\n",
    "train_Y_one_hot = to_categorical(train_Y)\n",
    "test_Y_one_hot = to_categorical(test_Y)\n",
    " \n",
    "# Display the change for category label using one-hot encoding\n",
    "print('Original label:', train_Y[0])\n",
    "print('After conversion to one-hot:', train_Y_one_hot[0])\n",
    " \n",
    "\n"
   ]
  },
  {
   "cell_type": "code",
   "execution_count": 7,
   "id": "91ef13c8",
   "metadata": {},
   "outputs": [
    {
     "name": "stdout",
     "output_type": "stream",
     "text": [
      "(2351, 216, 384, 3) (588, 216, 384, 3) (2351, 7) (588, 7)\n"
     ]
    }
   ],
   "source": [
    "train_X,valid_X,train_label,valid_label = train_test_split(train_X, train_Y_one_hot, test_size=0.2, random_state=13)\n",
    " \n",
    "print(train_X.shape,valid_X.shape,train_label.shape,valid_label.shape)"
   ]
  },
  {
   "cell_type": "code",
   "execution_count": 8,
   "id": "ca68c4bc",
   "metadata": {},
   "outputs": [],
   "source": [
    "#declaramos variables con los parámetros de configuración de la red\n",
    "INIT_LR = 1e-3 # Valor inicial de learning rate. El valor 1e-3 corresponde con 0.001\n",
    "epochs = 10 # Cantidad de iteraciones completas al conjunto de imagenes de entrenamiento\n",
    "batch_size = 64 # cantidad de imágenes que se toman a la vez en memoria\n",
    "altura, ancho = 216, 384 # altura y ancho de las imagenes\n"
   ]
  },
  {
   "cell_type": "code",
   "execution_count": null,
   "id": "46a98b3a",
   "metadata": {},
   "outputs": [],
   "source": [
    "# Ahora sí que nos apoyamos en Keras para crear la Convolutional Neural Network"
   ]
  },
  {
   "cell_type": "code",
   "execution_count": 9,
   "id": "a502c87a",
   "metadata": {},
   "outputs": [],
   "source": [
    "carne_model = Sequential()\n",
    "\n",
    "carne_model.add(Convolution2D(32, kernel_size=(3, 3),activation='linear', padding='same', input_shape=(altura,ancho,3)))\n",
    "carne_model.add(MaxPooling2D((2, 2),padding='same'))\n",
    "\n",
    "carne_model.add(Convolution2D(64, kernel_size=(2, 2),activation='linear', padding='same'))\n",
    "carne_model.add(MaxPooling2D((2, 2),padding='same')) \n",
    "\n",
    "\n",
    "carne_model.add(LeakyReLU(alpha=0.1))\n",
    "carne_model.add(Flatten())\n",
    "carne_model.add(Dense(256, activation='linear'))\n",
    "carne_model.add(LeakyReLU(alpha=0.1))\n",
    "carne_model.add(Dropout(0.5))\n",
    "carne_model.add(Dense(nClasses, activation='softmax'))\n"
   ]
  },
  {
   "cell_type": "code",
   "execution_count": 10,
   "id": "806b98bd",
   "metadata": {},
   "outputs": [],
   "source": [
    "lr_schedule = tensorflow.keras.optimizers.schedules.ExponentialDecay(\n",
    "    initial_learning_rate=INIT_LR,\n",
    "    decay_steps=10000,\n",
    "    decay_rate=0.9)\n",
    "carne_model.compile(loss=tensorflow.keras.losses.categorical_crossentropy, optimizer=tensorflow.keras.optimizers.Adam(learning_rate=lr_schedule),metrics=['accuracy'])"
   ]
  },
  {
   "cell_type": "code",
   "execution_count": null,
   "id": "d9a3a3f7",
   "metadata": {},
   "outputs": [],
   "source": [
    "#Entrenamos la CNN"
   ]
  },
  {
   "cell_type": "code",
   "execution_count": 11,
   "id": "9562bc81",
   "metadata": {},
   "outputs": [
    {
     "name": "stdout",
     "output_type": "stream",
     "text": [
      "Epoch 1/10\n",
      "37/37 [==============================] - 192s 5s/step - loss: 0.9318 - accuracy: 0.7137 - val_loss: 0.5101 - val_accuracy: 0.8316\n",
      "Epoch 2/10\n",
      "37/37 [==============================] - 200s 5s/step - loss: 0.2472 - accuracy: 0.9277 - val_loss: 0.3579 - val_accuracy: 0.8895\n",
      "Epoch 3/10\n",
      "37/37 [==============================] - 180s 5s/step - loss: 0.1054 - accuracy: 0.9685 - val_loss: 0.3965 - val_accuracy: 0.9048\n",
      "Epoch 4/10\n",
      "37/37 [==============================] - 197s 5s/step - loss: 0.0789 - accuracy: 0.9775 - val_loss: 0.3859 - val_accuracy: 0.9184\n",
      "Epoch 5/10\n",
      "37/37 [==============================] - 180s 5s/step - loss: 0.0724 - accuracy: 0.9783 - val_loss: 0.4048 - val_accuracy: 0.9014\n",
      "Epoch 6/10\n",
      "37/37 [==============================] - 174s 5s/step - loss: 0.0637 - accuracy: 0.9826 - val_loss: 0.3931 - val_accuracy: 0.9116\n",
      "Epoch 7/10\n",
      "37/37 [==============================] - 183s 5s/step - loss: 0.0528 - accuracy: 0.9843 - val_loss: 0.4413 - val_accuracy: 0.9184\n",
      "Epoch 8/10\n",
      "37/37 [==============================] - 159s 4s/step - loss: 0.0597 - accuracy: 0.9843 - val_loss: 0.4934 - val_accuracy: 0.9150\n",
      "Epoch 9/10\n",
      "37/37 [==============================] - 158s 4s/step - loss: 0.0547 - accuracy: 0.9821 - val_loss: 0.4169 - val_accuracy: 0.9218\n",
      "Epoch 10/10\n",
      "37/37 [==============================] - 160s 4s/step - loss: 0.0549 - accuracy: 0.9847 - val_loss: 0.4992 - val_accuracy: 0.9048\n"
     ]
    }
   ],
   "source": [
    "carne_train = carne_model.fit(train_X, train_label, batch_size=batch_size,epochs=epochs, verbose=1, validation_data=(valid_X, valid_label))"
   ]
  },
  {
   "cell_type": "code",
   "execution_count": null,
   "id": "a011ebde",
   "metadata": {},
   "outputs": [],
   "source": [
    "#Evaluamos el modelo"
   ]
  },
  {
   "cell_type": "code",
   "execution_count": 12,
   "id": "0e0966e4",
   "metadata": {},
   "outputs": [
    {
     "name": "stdout",
     "output_type": "stream",
     "text": [
      "11/11 [==============================] - 5s 403ms/step - loss: 0.5335 - accuracy: 0.9052\n",
      "Test loss: 0.5334655046463013\n",
      "Test accuracy: 0.9051987528800964\n"
     ]
    }
   ],
   "source": [
    "test_eval = carne_model.evaluate(test_X, test_Y_one_hot, verbose=1)\n",
    "print('Test loss:', test_eval[0])\n",
    "print('Test accuracy:', test_eval[1])"
   ]
  },
  {
   "cell_type": "code",
   "execution_count": null,
   "id": "951a46d5",
   "metadata": {},
   "outputs": [],
   "source": [
    "# Matrix de confusión"
   ]
  },
  {
   "cell_type": "code",
   "execution_count": 18,
   "id": "844e1168",
   "metadata": {},
   "outputs": [
    {
     "name": "stdout",
     "output_type": "stream",
     "text": [
      "11/11 [==============================] - 5s 408ms/step\n"
     ]
    },
    {
     "data": {
      "text/plain": [
       "<sklearn.metrics._plot.confusion_matrix.ConfusionMatrixDisplay at 0x1fb39704a50>"
      ]
     },
     "execution_count": 18,
     "metadata": {},
     "output_type": "execute_result"
    },
    {
     "data": {
      "image/png": "[encoded data removed]",
      "text/plain": [
       "<Figure size 640x480 with 2 Axes>"
      ]
     },
     "metadata": {},
     "output_type": "display_data"
    }
   ],
   "source": [
    "predicted_classes=[]\n",
    "predicted_classes2 = carne_model.predict(test_X)\n",
    "\n",
    "for predicted_carne in predicted_classes2:\n",
    "    predicted_classes.append(predicted_carne.tolist().index(max(predicted_carne)))\n",
    "predicted_classes=np.array(predicted_classes)\n",
    "\n",
    "confusion_matrix = metrics.confusion_matrix(test_Y, predicted_classes)\n",
    "cm_display = metrics.ConfusionMatrixDisplay(confusion_matrix = confusion_matrix)\n",
    "\n",
    "cm_display.plot()"
   ]
  },
  {
   "cell_type": "code",
   "execution_count": null,
   "id": "b36d9f71",
   "metadata": {},
   "outputs": [],
   "source": [
    "# Hacemos pruebas con la matriz test"
   ]
  },
  {
   "cell_type": "code",
   "execution_count": 56,
   "id": "947d58f6",
   "metadata": {},
   "outputs": [
    {
     "name": "stdout",
     "output_type": "stream",
     "text": [
      "1/1 [==============================] - 0s 194ms/step\n",
      "C:/Users/DavidFlores/Desktop/UIDE/test/CLASS_02/05-CAPTURE_20220421_053715_321.png  prediccion => CLASS_04\n",
      "C:/Users/DavidFlores/Desktop/UIDE/test/CLASS_04/05-CAPTURE_20220421_053420_484.png  prediccion => CLASS_04\n"
     ]
    }
   ],
   "source": [
    "from skimage.transform import resize\n",
    "\n",
    "images=[]\n",
    "\n",
    "filenames = ['C:/Users/DavidFlores/Desktop/UIDE/test/CLASS_02/05-CAPTURE_20220421_053715_321.png', \n",
    "             'C:/Users/DavidFlores/Desktop/UIDE/test/CLASS_04/05-CAPTURE_20220421_053420_484.png']\n",
    "for filepath in filenames:\n",
    "    image = plt.imread(filepath,0)\n",
    "    image_resized = resize(image, (altura, ancho),anti_aliasing=True,clip=False,preserve_range=True)\n",
    "    images.append(image_resized)\n",
    "\n",
    "array_images = np.array(images)\n",
    "test_images = array_images.astype('float32')\n",
    "\n",
    "predictions = carne_model.predict(test_images)\n",
    "\n",
    "if isinstance(filenames, list):\n",
    "    for i, img_tagged in enumerate(predictions):\n",
    "        print(filenames[i],' prediccion =>' ,carne[img_tagged.tolist().index(max(img_tagged))])"
   ]
  },
  {
   "cell_type": "code",
   "execution_count": null,
   "id": "ca7b808a",
   "metadata": {},
   "outputs": [],
   "source": []
  }
 ],
 "metadata": {
  "kernelspec": {
   "display_name": "Python 3 (ipykernel)",
   "language": "python",
   "name": "python3"
  },
  "language_info": {
   "codemirror_mode": {
    "name": "ipython",
    "version": 3
   },
   "file_extension": ".py",
   "mimetype": "text/x-python",
   "name": "python",
   "nbconvert_exporter": "python",
   "pygments_lexer": "ipython3",
   "version": "3.11.4"
  }
 },
 "nbformat": 4,
 "nbformat_minor": 5
}
